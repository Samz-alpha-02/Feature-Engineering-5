{
 "cells": [
  {
   "cell_type": "code",
   "execution_count": 1,
   "id": "21206a42-6c75-4c01-99e1-b7a896e3a669",
   "metadata": {},
   "outputs": [
    {
     "name": "stdout",
     "output_type": "stream",
     "text": [
      "Pearson Correlation Coefficient: 0.992\n"
     ]
    }
   ],
   "source": [
    "#Q1\n",
    "import pandas as pd\n",
    "\n",
    "# Assuming df is your dataset with columns 'Study Time' and 'Final Exam Score'\n",
    "data = {'Study Time': [5, 8, 4, 7, 6],\n",
    "        'Final Exam Score': [80, 92, 75, 88, 82]}\n",
    "\n",
    "df = pd.DataFrame(data)\n",
    "\n",
    "# Calculate Pearson correlation coefficient\n",
    "correlation_coefficient = df['Study Time'].corr(df['Final Exam Score'])\n",
    "\n",
    "# Display the result\n",
    "print(f\"Pearson Correlation Coefficient: {correlation_coefficient:.3f}\")\n"
   ]
  },
  {
   "cell_type": "code",
   "execution_count": null,
   "id": "e53c3ce9-e3cb-4597-ad9b-399f28331374",
   "metadata": {},
   "outputs": [],
   "source": [
    "Interpretation:\n",
    "\n",
    "The Pearson correlation coefficient is r=0.992\n",
    "Since r is close to 1, there is a strong positive linear correlation between the amount of time students\n",
    "spend studying for an exam and their final exam scores.\n",
    "The positive sign indicates that as the amount of time spent studying increases, the final exam scores\n",
    "tend to increase as well.\n",
    "The strength of the correlation (0.992) suggests a high degree of linearity in the relationship."
   ]
  },
  {
   "cell_type": "code",
   "execution_count": 2,
   "id": "d83c8c75-54df-4618-baee-23f0939e58e1",
   "metadata": {},
   "outputs": [
    {
     "name": "stdout",
     "output_type": "stream",
     "text": [
      "Spearman's Rank Correlation Coefficient: 0.975\n"
     ]
    }
   ],
   "source": [
    "#Q2\n",
    "import pandas as pd\n",
    "\n",
    "# Assuming df is your dataset with columns 'Sleep Hours' and 'Job Satisfaction'\n",
    "data = {'Sleep Hours': [7, 5, 8, 6, 7],\n",
    "        'Job Satisfaction': [8, 4, 9, 5, 7]}\n",
    "\n",
    "df = pd.DataFrame(data)\n",
    "\n",
    "# Calculate Spearman's rank correlation coefficient\n",
    "spearman_corr_coefficient = df['Sleep Hours'].corr(df['Job Satisfaction'], method='spearman')\n",
    "\n",
    "# Display the result\n",
    "print(f\"Spearman's Rank Correlation Coefficient: {spearman_corr_coefficient:.3f}\")\n"
   ]
  },
  {
   "cell_type": "code",
   "execution_count": null,
   "id": "0c26b58c-72e3-44a1-aaa8-905c91e7941e",
   "metadata": {},
   "outputs": [],
   "source": [
    "Interpretation:\n",
    "\n",
    "The Spearman's rank correlation coefficient is ρ=0.975\n",
    "Since ρ is close to 0, there is a weak positive monotonic relationship between the amount of sleep \n",
    "individuals get each night and their overall job satisfaction level.\n",
    "The positive sign indicates that, on average, as the amount of sleep increases, job satisfaction\n",
    "tends to increase, but the relationship is not very strong."
   ]
  },
  {
   "cell_type": "code",
   "execution_count": 3,
   "id": "891c17e1-243c-48e6-89db-17b4e1517257",
   "metadata": {},
   "outputs": [
    {
     "name": "stdout",
     "output_type": "stream",
     "text": [
      "Pearson Correlation Coefficient: 0.913\n",
      "Spearman's Rank Correlation Coefficient: 0.905\n"
     ]
    }
   ],
   "source": [
    "#Q3\n",
    "import pandas as pd\n",
    "\n",
    "# Assuming df is your dataset with columns 'Exercise Hours' and 'BMI'\n",
    "# Generate some example data for illustration\n",
    "data = {'Exercise Hours': [3, 5, 2, 4, 6, 1, 5, 3, 2, 4, 6, 1, 3, 5, 2, 4, 6, 1, 3, 5, 2, 4, 6, 1,\n",
    "                           3, 5, 2, 4, 6, 1, 3, 5, 2, 4, 6, 1, 3, 5, 2, 4, 6, 1, 3, 5, 2, 4, 6, 1],\n",
    "        'BMI': [22, 26, 20, 24, 28, 18, 27, 23, 19, 25, 29, 17, 22, 26, 20, 24, 28, 18, 27, 23, 19, \n",
    "                25, 29, 17, 22, 26, 20, 24, 28, 18, 27, 23, 19, 25, 29, 17, 22, 26, 20, 24, 28, 18,\n",
    "                27, 23, 19, 25, 29, 17]}\n",
    "\n",
    "df = pd.DataFrame(data)\n",
    "\n",
    "# Calculate Pearson correlation coefficient\n",
    "pearson_corr_coefficient = df['Exercise Hours'].corr(df['BMI'])\n",
    "\n",
    "# Calculate Spearman's rank correlation coefficient\n",
    "spearman_corr_coefficient = df['Exercise Hours'].corr(df['BMI'], method='spearman')\n",
    "\n",
    "# Display the results\n",
    "print(f\"Pearson Correlation Coefficient: {pearson_corr_coefficient:.3f}\")\n",
    "print(f\"Spearman's Rank Correlation Coefficient: {spearman_corr_coefficient:.3f}\")\n"
   ]
  },
  {
   "cell_type": "code",
   "execution_count": null,
   "id": "896bc1c9-293e-44d4-a8ee-6eaed9f117e7",
   "metadata": {},
   "outputs": [],
   "source": [
    "Comparison:\n",
    "\n",
    "The Pearson correlation coefficient is r = 0.913 indicating a strong positive linear relationship \n",
    "between the number of hours of exercise per week and BMI.\n",
    "The Spearman's rank correlation coefficient is ρ=0.905 suggesting a strong positive monotonic \n",
    "relationship between the two variables.\n",
    "\n",
    "Interpretation:\n",
    "\n",
    "Both correlation coefficients suggest a positive relationship between exercise hours and BMI.\n",
    "\n",
    "The Pearson correlation coefficient measures linear relationships, while Spearman's rank \n",
    "correlation is more general and measures monotonic relationships.\n",
    "\n",
    "In this case, both coefficients are relatively close, indicating that the relationship is not \n",
    "only linear but also monotonic."
   ]
  },
  {
   "cell_type": "code",
   "execution_count": 4,
   "id": "02da55f5-8156-4578-8d7a-ead58139322c",
   "metadata": {},
   "outputs": [
    {
     "name": "stdout",
     "output_type": "stream",
     "text": [
      "Pearson Correlation Coefficient: -0.477\n"
     ]
    }
   ],
   "source": [
    "#Q4\n",
    "import pandas as pd\n",
    "\n",
    "# Assuming df is your dataset with columns 'TV Hours' and 'Physical Activity Level'\n",
    "# Generate some example data for illustration\n",
    "data = {'TV Hours': [2, 3, 4, 2, 5, 1, 3, 4, 1, 2, 3, 4, 2, 5, 1, 3, 4, 1, 2, 3, 4, 2, 5, 1, 3, \n",
    "                     4, 1, 2, 3, 4, 2, 5, 1, 3, 4, 1, 2, 3, 4, 2, 5, 1, 3, 4, 1, 2, 3, 4],\n",
    "        'Physical Activity Level': [3, 4, 2, 5, 1, 3, 4, 1, 2, 3, 4, 2, 5, 1, 3, 4, 1, 2, 3, 4, 2,\n",
    "                                    5, 1, 3, 4, 1, 2, 3, 4, 2, 5, 1, 3, 4, 1, 2, 3, 4, 2, 5, 1, 3,\n",
    "                                    4, 1, 2, 3, 4, 2]}\n",
    "\n",
    "df = pd.DataFrame(data)\n",
    "\n",
    "# Calculate Pearson correlation coefficient\n",
    "pearson_corr_coefficient = df['TV Hours'].corr(df['Physical Activity Level'])\n",
    "\n",
    "# Display the result\n",
    "print(f\"Pearson Correlation Coefficient: {pearson_corr_coefficient:.3f}\")\n"
   ]
  },
  {
   "cell_type": "code",
   "execution_count": null,
   "id": "808a3498-60fa-424a-b922-cc84fcd5baf4",
   "metadata": {},
   "outputs": [],
   "source": [
    "Interpretation:\n",
    "\n",
    "The Pearson correlation coefficient is r=-0.477 \n",
    "The negative sign indicates a negative correlation between the number of hours individuals spend \n",
    "watching television per day and their level of physical activity.\n",
    "The strength of the correlation (0.477) suggests a moderate negative linear relationship. As the\n",
    "number of hours spent watching TV increases, the level of physical activity tends to decrease."
   ]
  },
  {
   "cell_type": "code",
   "execution_count": 5,
   "id": "9bb2b7c2-1bfc-4b38-95dd-6ab6cb79e23a",
   "metadata": {},
   "outputs": [
    {
     "name": "stdout",
     "output_type": "stream",
     "text": [
      "Summary Statistics:\n",
      "                       count  mean       std   min    25%   50%    75%   max\n",
      "Soft Drink Preference                                                       \n",
      "Coke                     3.0  24.0  4.582576  19.0  22.00  25.0  26.50  28.0\n",
      "Mountain Dew             1.0  37.0       NaN  37.0  37.00  37.0  37.00  37.0\n",
      "Pepsi                    2.0  36.5  7.778175  31.0  33.75  36.5  39.25  42.0\n"
     ]
    },
    {
     "data": {
      "image/png": "[encoded data removed]",
      "text/plain": [
       "<Figure size 800x500 with 1 Axes>"
      ]
     },
     "metadata": {},
     "output_type": "display_data"
    }
   ],
   "source": [
    "#Q5\n",
    "import pandas as pd\n",
    "import matplotlib.pyplot as plt\n",
    "\n",
    "# Assuming df is your dataset\n",
    "data = {'Age': [25, 42, 37, 19, 31, 28],\n",
    "        'Soft Drink Preference': ['Coke', 'Pepsi', 'Mountain Dew', 'Coke', 'Pepsi', 'Coke']}\n",
    "\n",
    "df = pd.DataFrame(data)\n",
    "\n",
    "# Summary statistics\n",
    "summary_stats = df.groupby('Soft Drink Preference')['Age'].describe()\n",
    "\n",
    "# Display the summary statistics\n",
    "print(\"Summary Statistics:\")\n",
    "print(summary_stats)\n",
    "\n",
    "# Plot the data\n",
    "plt.figure(figsize=(8, 5))\n",
    "plt.scatter(df['Soft Drink Preference'], df['Age'], color='blue')\n",
    "plt.xlabel('Soft Drink Preference')\n",
    "plt.ylabel('Age')\n",
    "plt.title('Relationship Between Age and Soft Drink Preference')\n",
    "plt.show()\n"
   ]
  },
  {
   "cell_type": "code",
   "execution_count": 6,
   "id": "49a7eebd-a0bd-48d9-9cf4-5e310313cc90",
   "metadata": {},
   "outputs": [
    {
     "name": "stdout",
     "output_type": "stream",
     "text": [
      "Pearson Correlation Coefficient: 0.982\n"
     ]
    }
   ],
   "source": [
    "#Q6\n",
    "import pandas as pd\n",
    "\n",
    "# Assuming df is your dataset\n",
    "# Generate some example data for illustration\n",
    "data = {'Sales Calls per Day': [20, 25, 18, 30, 22, 28, 15, 23, 27, 19, 26, 21, 29, 24, 17, 31, 16, \n",
    "                                20, 25, 18, 30, 22, 28, 15, 23, 27, 19, 26, 21, 29],\n",
    "        'Sales per Week': [100, 120, 90, 150, 110, 140, 80, 130, 140, 95, 135, 105, 145, 125, 85, \n",
    "                           155, 75, 100, 120, 90, 150, 110, 140, 80, 130, 140, 95, 135, 105, 145]}\n",
    "\n",
    "df = pd.DataFrame(data)\n",
    "\n",
    "# Calculate Pearson correlation coefficient\n",
    "pearson_corr_coefficient = df['Sales Calls per Day'].corr(df['Sales per Week'])\n",
    "\n",
    "# Display the result\n",
    "print(f\"Pearson Correlation Coefficient: {pearson_corr_coefficient:.3f}\")\n"
   ]
  }
 ],
 "metadata": {
  "kernelspec": {
   "display_name": "Python 3 (ipykernel)",
   "language": "python",
   "name": "python3"
  },
  "language_info": {
   "codemirror_mode": {
    "name": "ipython",
    "version": 3
   },
   "file_extension": ".py",
   "mimetype": "text/x-python",
   "name": "python",
   "nbconvert_exporter": "python",
   "pygments_lexer": "ipython3",
   "version": "3.10.8"
  }
 },
 "nbformat": 4,
 "nbformat_minor": 5
}
